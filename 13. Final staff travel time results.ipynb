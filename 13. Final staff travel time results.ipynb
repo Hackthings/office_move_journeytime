{
 "cells": [
  {
   "cell_type": "code",
   "execution_count": 1,
   "metadata": {
    "collapsed": false
   },
   "outputs": [
    {
     "name": "stderr",
     "output_type": "stream",
     "text": [
      "/Users/robinlinacre/anaconda/lib/python2.7/site-packages/sqlalchemy/dialects/postgresql/base.py:2505: SAWarning: Did not recognize type 'geometry' of column 'geom'\n",
      "  (attype, name))\n"
     ]
    }
   ],
   "source": [
    "# create view tt.vw_change_in_journey_time_all as \n",
    "import pandas as pd \n",
    "from mylibrary.connections import cursor, conn, engine, Automapped_Base, session\n",
    "sql = \"\"\"\n",
    "drop view if exists tt_gh.vw_change_in_journey_time_london;\n",
    "create view tt_gh.vw_change_in_journey_time_london as \n",
    "select o.postcode as postcode, \n",
    "o.journey_time as original_journey_time, d.journey_time as new_journey_time,\n",
    "d.journey_time - o.journey_time as change_in_journey_time,\n",
    "p.geom\n",
    "from tt_gh.london_journeytime_stpauls as o \n",
    "left join tt_gh.london_journeytime_camden as d\n",
    "on o.id=d.id\n",
    "left join tt_gh.all_postcodes as p\n",
    "on o.postcode = p.postcode\n",
    "\"\"\"\n",
    "cursor.execute(sql)\n",
    "conn.commit()"
   ]
  },
  {
   "cell_type": "code",
   "execution_count": 2,
   "metadata": {
    "collapsed": false
   },
   "outputs": [
    {
     "data": {
      "text/html": [
       "<div>\n",
       "<table border=\"1\" class=\"dataframe\">\n",
       "  <thead>\n",
       "    <tr style=\"text-align: right;\">\n",
       "      <th></th>\n",
       "      <th>postcode</th>\n",
       "      <th>original_journey_time</th>\n",
       "      <th>new_journey_time</th>\n",
       "      <th>change_in_journey_time</th>\n",
       "      <th>lng</th>\n",
       "      <th>lat</th>\n",
       "    </tr>\n",
       "  </thead>\n",
       "  <tbody>\n",
       "    <tr>\n",
       "      <th>0</th>\n",
       "      <td>DA144LF</td>\n",
       "      <td>68</td>\n",
       "      <td>81</td>\n",
       "      <td>13</td>\n",
       "      <td>0.110742</td>\n",
       "      <td>51.429472</td>\n",
       "    </tr>\n",
       "    <tr>\n",
       "      <th>1</th>\n",
       "      <td>DA146DJ</td>\n",
       "      <td>68</td>\n",
       "      <td>81</td>\n",
       "      <td>13</td>\n",
       "      <td>0.101363</td>\n",
       "      <td>51.426664</td>\n",
       "    </tr>\n",
       "    <tr>\n",
       "      <th>2</th>\n",
       "      <td>DA146PP</td>\n",
       "      <td>69</td>\n",
       "      <td>82</td>\n",
       "      <td>13</td>\n",
       "      <td>0.089636</td>\n",
       "      <td>51.427845</td>\n",
       "    </tr>\n",
       "    <tr>\n",
       "      <th>3</th>\n",
       "      <td>DA146QH</td>\n",
       "      <td>67</td>\n",
       "      <td>80</td>\n",
       "      <td>13</td>\n",
       "      <td>0.084858</td>\n",
       "      <td>51.429710</td>\n",
       "    </tr>\n",
       "    <tr>\n",
       "      <th>4</th>\n",
       "      <td>DA157HP</td>\n",
       "      <td>67</td>\n",
       "      <td>80</td>\n",
       "      <td>13</td>\n",
       "      <td>0.096430</td>\n",
       "      <td>51.430142</td>\n",
       "    </tr>\n",
       "  </tbody>\n",
       "</table>\n",
       "</div>"
      ],
      "text/plain": [
       "  postcode  original_journey_time  new_journey_time  change_in_journey_time  \\\n",
       "0  DA144LF                     68                81                      13   \n",
       "1  DA146DJ                     68                81                      13   \n",
       "2  DA146PP                     69                82                      13   \n",
       "3  DA146QH                     67                80                      13   \n",
       "4  DA157HP                     67                80                      13   \n",
       "\n",
       "        lng        lat  \n",
       "0  0.110742  51.429472  \n",
       "1  0.101363  51.426664  \n",
       "2  0.089636  51.427845  \n",
       "3  0.084858  51.429710  \n",
       "4  0.096430  51.430142  "
      ]
     },
     "execution_count": 2,
     "metadata": {},
     "output_type": "execute_result"
    }
   ],
   "source": [
    "sql = \"\"\"\n",
    "select postcode,original_journey_time,new_journey_time,change_in_journey_time,\n",
    "ST_X(ST_TRANSFORM(geom, 4326)) as lng,\n",
    "ST_Y(ST_TRANSFORM(geom,4326)) as lat\n",
    "from tt_gh.vw_change_in_journey_time_london\n",
    "where change_in_journey_time is not null\n",
    "union all\n",
    "select postcode,original_journey_time,new_journey_time,change_in_journey_time,\n",
    "ST_X(ST_TRANSFORM(geom, 4326)) as lng,\n",
    "ST_Y(ST_TRANSFORM(geom,4326)) as lat\n",
    "from tt_gh.vw_change_in_journey_time_non_london\n",
    "where change_in_journey_time is not null\n",
    "\"\"\"\n",
    "df = pd.read_sql(sql,conn)\n",
    "df.to_csv(\"website/data/all_staff_journeytime_final.csv\", index=False)\n",
    "df.head()"
   ]
  },
  {
   "cell_type": "code",
   "execution_count": null,
   "metadata": {
    "collapsed": true
   },
   "outputs": [],
   "source": []
  }
 ],
 "metadata": {
  "kernelspec": {
   "display_name": "Python 2",
   "language": "python",
   "name": "python2"
  },
  "language_info": {
   "codemirror_mode": {
    "name": "ipython",
    "version": 2
   },
   "file_extension": ".py",
   "mimetype": "text/x-python",
   "name": "python",
   "nbconvert_exporter": "python",
   "pygments_lexer": "ipython2",
   "version": "2.7.11"
  }
 },
 "nbformat": 4,
 "nbformat_minor": 0
}
