{
 "cells": [
  {
   "cell_type": "markdown",
   "metadata": {},
   "source": [
    "Note:  This script randomly selections 1000 postcodes in London and 1000 postcodes outside London.  It is only needed if you don't have the staff data yourself!"
   ]
  },
  {
   "cell_type": "code",
   "execution_count": 1,
   "metadata": {
    "collapsed": false
   },
   "outputs": [
    {
     "name": "stderr",
     "output_type": "stream",
     "text": [
      "/Users/robinlinacre/anaconda/lib/python2.7/site-packages/sqlalchemy/dialects/postgresql/base.py:2505: SAWarning: Did not recognize type 'geometry' of column 'geom'\n",
      "  (attype, name))\n"
     ]
    }
   ],
   "source": [
    "import pandas as pd \n",
    "from mylibrary.connections import cursor, conn, engine, Automapped_Base, session\n",
    "sql = \"\"\"\n",
    "drop table if exists tt_gh.staff_locations;\n",
    "create table  tt_gh.staff_locations as\n",
    "(select postcode, s.geom from tt_gh.all_postcodes as s, tt_gh.gb_and_london as g\n",
    "where st_contains(g.geom,s.geom)  and g.name='london'\n",
    "order by random()\n",
    "limit 1000)\n",
    "\n",
    "union all\n",
    "\n",
    "(select postcode, s.geom from tt_gh.all_postcodes as s, tt_gh.gb_and_london as g\n",
    "where not st_contains(g.geom,s.geom)  and g.name='london'\n",
    "order by random()\n",
    "limit 1000);\n",
    "\n",
    "CREATE INDEX idx_geom_staff_locations ON tt_gh.staff_locations USING gist(geom);\n",
    "\"\"\"\n",
    "cur = conn.cursor()\n",
    "cur.execute(sql)\n",
    "conn.commit()"
   ]
  }
 ],
 "metadata": {
  "kernelspec": {
   "display_name": "Python 2",
   "language": "python",
   "name": "python2"
  },
  "language_info": {
   "codemirror_mode": {
    "name": "ipython",
    "version": 2
   },
   "file_extension": ".py",
   "mimetype": "text/x-python",
   "name": "python",
   "nbconvert_exporter": "python",
   "pygments_lexer": "ipython2",
   "version": "2.7.11"
  }
 },
 "nbformat": 4,
 "nbformat_minor": 0
}
