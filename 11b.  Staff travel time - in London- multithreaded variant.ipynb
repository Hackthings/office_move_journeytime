{
 "cells": [
  {
   "cell_type": "code",
   "execution_count": null,
   "metadata": {
    "collapsed": true
   },
   "outputs": [],
   "source": [
    "# For staff outside London, they \n",
    "# Pick a random sample of UK postcodes.\n",
    "import pandas as pd"
   ]
  },
  {
   "cell_type": "code",
   "execution_count": null,
   "metadata": {
    "collapsed": false
   },
   "outputs": [],
   "source": [
    "# get secret key\n",
    "from mylibrary.secrets import app_id, app_key, orig_name, dest_name, orig_pc, dest_pc\n",
    "from mylibrary.connections import cursor, conn, engine, Automapped_Base, session"
   ]
  },
  {
   "cell_type": "code",
   "execution_count": null,
   "metadata": {
    "collapsed": false
   },
   "outputs": [],
   "source": [
    "sql = \"\"\"\n",
    "select  s.postcode, s.geom, g.name from tt_gh.staff_locations as s, tt_gh.gb_and_london as g\n",
    "where st_contains(g.geom,s.geom)  and g.name='london'\n",
    "\"\"\"\n",
    "london_staff = pd.read_sql(sql, conn)\n",
    "london_staff.sample(5)\n",
    "print(len(london_staff))"
   ]
  },
  {
   "cell_type": "code",
   "execution_count": null,
   "metadata": {
    "collapsed": false
   },
   "outputs": [],
   "source": [
    "# RUNNING THIS WILL DELETE ALL YOUR JOURNEYTIME RESULTS!!!\n",
    "\n",
    "# for name in (orig_name, dest_name):\n",
    "    \n",
    "#     sql = \"\"\"\n",
    "#     drop table if exists tt_gh.london_journeytime_{name};\n",
    "    \n",
    "#     create table tt_gh.london_journeytime_{name} as\n",
    "#     select row_number() over () as id, s.postcode, s.geom from tt_gh.staff_locations as  s, tt_gh.gb_and_london as g\n",
    "#     where st_contains(g.geom,s.geom) and g.name = 'london'\n",
    "#     \"\"\".format(name = name)\n",
    "#     cur = conn.cursor()\n",
    "#     cur.execute(sql)\n",
    "#     conn.commit()\n",
    "\n",
    "#     sql = \"\"\"\n",
    "#     ALTER TABLE tt_gh.london_journeytime_{name} \n",
    "#     ADD tfl_request text, ADD tfl_response json,\n",
    "#     ADD querydict json,\n",
    "#     ADD journey_time int,\n",
    "#     ADD tfl_message text;\n",
    "   \n",
    "#     ALTER TABLE tt_gh.london_journeytime_{name} ADD PRIMARY KEY (id);\n",
    "\n",
    "#     \"\"\".format(name=name)\n",
    "#     cur = conn.cursor()\n",
    "#     cur.execute(sql)\n",
    "#     conn.commit()"
   ]
  },
  {
   "cell_type": "code",
   "execution_count": null,
   "metadata": {
    "collapsed": true
   },
   "outputs": [],
   "source": [
    "from sqlalchemy import or_\n",
    "from mylibrary.tfl_helpers import get_journeyplanner_raw_content, status_of_tfl_response_journey, get_journeyplanner_results\n",
    "\n",
    "London_orig = Automapped_Base.classes.london_journeytime_stpauls\n",
    "London_dest = Automapped_Base.classes.london_journeytime_camden"
   ]
  },
  {
   "cell_type": "code",
   "execution_count": null,
   "metadata": {
    "collapsed": false
   },
   "outputs": [],
   "source": [
    "# Multithread \n",
    "import threading\n",
    "num_threads = 10\n",
    "\n",
    "from sqlalchemy import or_\n",
    "\n",
    "\n",
    "from sqlalchemy import create_engine\n",
    "engine = create_engine('postgresql://postgres:@localhost:5432/postgres') \n",
    "\n",
    "from sqlalchemy.ext.automap import automap_base\n",
    "from sqlalchemy.orm import Session\n",
    "from sqlalchemy import create_engine, MetaData\n",
    "\n",
    "\n",
    "\n",
    "London = Automapped_Base.classes.london_journeytime_camden\n",
    "ids  = session.query(London.id).all()\n",
    "\n",
    "counter = 1\n",
    "def new_thread():\n",
    "    \n",
    "    param_dict = {\n",
    "    \"to\": orig_pc.replace(\" \",\"\"),\n",
    "    \"id\": app_id,\n",
    "    \"key\": app_key,\n",
    "    \"time\": \"1000\", \n",
    "    \"date\": \"20160517\",\n",
    "    \"nationalsearch\": False\n",
    "    }\n",
    "\n",
    "    param_dicts = []\n",
    "    param_dicts.append(param_dict)\n",
    "\n",
    "    d1 = param_dict.copy()\n",
    "    d1[\"time\"] = \"1500\"\n",
    "    d1[\"date\"] = \"20160518\"\n",
    "    param_dicts.append(d1)\n",
    "\n",
    "    d2 = param_dict.copy()\n",
    "    d2[\"time\"] = \"1600\"\n",
    "    d2[\"date\"] = \"20160519\"\n",
    "    param_dicts.append(d2)\n",
    "\n",
    "    global counter\n",
    "    engine = create_engine('postgresql://postgres:@localhost:5432/postgres') \n",
    "    m = MetaData(schema='tt_gh')\n",
    "    Automapped_Base = automap_base(bind=engine,metadata=m)\n",
    "    Automapped_Base.prepare(engine, reflect=True)\n",
    "    session = Session(engine)\n",
    "\n",
    "    London = Automapped_Base.classes.london_journeytime_camden\n",
    "    \n",
    "    \n",
    "\n",
    "    while len(ids) > 0:\n",
    "        id = ids.pop()\n",
    "        station = session.query(London).filter(London.id == id).one()\n",
    "        \n",
    "        for d in param_dicts:\n",
    "            d[\"from\"] = station.postcode\n",
    "            if \"stpauls\" in London.__table__.name:\n",
    "                d[\"to\"] = orig_pc.replace(\" \",\"\")\n",
    "            if \"camden\" in London.__table__.name:\n",
    "                d[\"to\"] = dest_pc.replace(\" \",\"\")\n",
    "                \n",
    "        journey_object = get_journeyplanner_results(param_dicts)\n",
    "\n",
    "        station.tfl_request = journey_object[\"request_url\"]\n",
    "        station.tfl_response = journey_object[\"tfl_response\"]\n",
    "        station.querydict = journey_object[\"query_dict\"]\n",
    "        station.tfl_message = journey_object[\"tfl_message\"]\n",
    "\n",
    "        session.add(station)\n",
    "        session.commit()\n",
    "        \n",
    "        counter +=1\n",
    "        if counter % 10 == 0:\n",
    "            print counter\n",
    " \n",
    "my_threads = []\n",
    "\n",
    "for i in range(num_threads):\n",
    "    t = threading.Thread(target=new_thread)\n",
    "    my_threads.append(t)\n",
    "    t.start() #start this thread\n",
    "\n",
    "for x in my_threads:\n",
    "    x.join()"
   ]
  },
  {
   "cell_type": "code",
   "execution_count": null,
   "metadata": {
    "collapsed": false
   },
   "outputs": [],
   "source": [
    "# Finally pull out journeytime\n",
    "def get_duration(station):\n",
    "    tfl_response_json = json.loads(station.tfl_response)\n",
    "    return_object = {}\n",
    "    return_object[\"duration\"] = tfl_response_json[\"journeys\"][0][\"duration\"]\n",
    "    return return_object \n",
    "\n",
    "import json\n",
    "\n",
    "\n",
    "for London in (London_orig, London_dest):\n",
    "    ids = session.query(London.id).filter(London.tfl_message == \"ok\").all()\n",
    "    for id in ids:\n",
    "        try:\n",
    "            station = session.query(London).filter(London.id == id).one()\n",
    "            journey = get_duration(station)\n",
    "            station.journey_time = journey[\"duration\"]\n",
    "            session.add(station)\n",
    "            session.commit()\n",
    "        except:\n",
    "            pass\n",
    "        "
   ]
  },
  {
   "cell_type": "code",
   "execution_count": null,
   "metadata": {
    "collapsed": true
   },
   "outputs": [],
   "source": []
  }
 ],
 "metadata": {
  "kernelspec": {
   "display_name": "Python 2",
   "language": "python",
   "name": "python2"
  },
  "language_info": {
   "codemirror_mode": {
    "name": "ipython",
    "version": 2
   },
   "file_extension": ".py",
   "mimetype": "text/x-python",
   "name": "python",
   "nbconvert_exporter": "python",
   "pygments_lexer": "ipython2",
   "version": "2.7.11"
  }
 },
 "nbformat": 4,
 "nbformat_minor": 0
}
