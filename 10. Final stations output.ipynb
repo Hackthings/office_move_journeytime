{
 "cells": [
  {
   "cell_type": "code",
   "execution_count": null,
   "metadata": {
    "collapsed": false
   },
   "outputs": [],
   "source": [
    "from mylibrary.connections import cursor, conn, engine, Automapped_Base, session\n",
    "import pandas as pd"
   ]
  },
  {
   "cell_type": "code",
   "execution_count": null,
   "metadata": {
    "collapsed": false
   },
   "outputs": [],
   "source": [
    "# First get all the data from the two tables of stations\n",
    "\n",
    "sql = \"\"\"\n",
    "select o.icscode, \n",
    "o.nlc, \n",
    "o.station_name, \n",
    "o.journey_time as journey_time_orig, \n",
    "d.journey_time as journey_time_dest,\n",
    "o.london_mainline_station_text as ml_orig,\n",
    "d.london_mainline_station_text as ml_dest,\n",
    "o.london_mainline_station_ics as ml_ics_orig,\n",
    "d.london_mainline_station_ics as ml_ics_dest\n",
    "\n",
    "from tt_gh.stations_journeytime_stpauls as o\n",
    "left join tt_gh.stations_journeytime_camden as d\n",
    "on o.icscode = d.icscode\n",
    "\n",
    "where o.tfl_message = 'ok' and d.tfl_message = 'ok'\n",
    "\n",
    "\"\"\"\n",
    "df1 = pd.read_sql(sql,conn)\n",
    "print len(df1)\n",
    "df1.head(5)"
   ]
  },
  {
   "cell_type": "code",
   "execution_count": null,
   "metadata": {
    "collapsed": false
   },
   "outputs": [],
   "source": [
    "# Next join on lat lng and other info\n",
    "sql = \"\"\"\n",
    "select icscode, station_name  from tt_gh.all_stations\n",
    "\"\"\"\n",
    "df2 = pd.read_sql(sql,conn)\n",
    "df2.head(2)\n",
    "# df2.groupby(\"icscode\").count()\n",
    "df2 = df2.drop_duplicates(\"icscode\")"
   ]
  },
  {
   "cell_type": "code",
   "execution_count": null,
   "metadata": {
    "collapsed": false
   },
   "outputs": [],
   "source": [
    "merged = df1.merge(df2, left_on=\"ml_ics_orig\", right_on=\"icscode\", how=\"left\")\n",
    "print(len(merged))\n",
    "merged = merged.drop([\"icscode_y\"], axis=1)\n",
    "merged.rename(columns={\"icscode_x\": \"icscode\", \"station_name_y\": \"ml_orig_station_name\",\"station_name_x\":\"station_name\"}, inplace=True)\n",
    "merged = merged.merge(df2, left_on=\"ml_ics_dest\", right_on=\"icscode\", how=\"left\")\n",
    "merged = merged.drop([\"icscode_y\"], axis=1)\n",
    "merged.rename(columns={\"icscode_x\": \"icscode\", \"station_name_y\": \"ml_dest_station_name\", \"station_name_x\":\"station_name\"}, inplace=True)\n",
    "print(len(merged))\n",
    "merged.head(5)"
   ]
  },
  {
   "cell_type": "code",
   "execution_count": null,
   "metadata": {
    "collapsed": false
   },
   "outputs": [],
   "source": [
    "# Finally get the lat lng \n",
    "# Next join on lat lng and other info\n",
    "sql = \"\"\"\n",
    "select nlc, icscode,\n",
    "ST_X(ST_TRANSFORM(geom, 4326)) as lng,\n",
    "ST_Y(ST_TRANSFORM(geom,4326)) as lat from tt_gh.all_stations;\n",
    "\"\"\"\n",
    "df3 = pd.read_sql(sql,conn)\n",
    "df3.head(2)\n",
    "df3 = df3.drop_duplicates(\"icscode\")\n",
    "df3 = df3.drop(\"icscode\", axis=1)"
   ]
  },
  {
   "cell_type": "code",
   "execution_count": null,
   "metadata": {
    "collapsed": false
   },
   "outputs": [],
   "source": [
    "merged = merged.merge(df3, left_on=\"nlc\", right_on=\"nlc\", how=\"left\")\n",
    "merged[\"duration_change\"] = merged[\"journey_time_dest\"] - merged[\"journey_time_orig\"]"
   ]
  },
  {
   "cell_type": "code",
   "execution_count": null,
   "metadata": {
    "collapsed": false
   },
   "outputs": [],
   "source": [
    "merged = merged[pd.notnull(merged[\"lat\"])]"
   ]
  },
  {
   "cell_type": "code",
   "execution_count": null,
   "metadata": {
    "collapsed": false
   },
   "outputs": [],
   "source": [
    "merged.to_csv(\"website/data/stations_results.csv\", index=False)"
   ]
  },
  {
   "cell_type": "code",
   "execution_count": null,
   "metadata": {
    "collapsed": true
   },
   "outputs": [],
   "source": []
  }
 ],
 "metadata": {
  "kernelspec": {
   "display_name": "Python 2",
   "language": "python",
   "name": "python2"
  },
  "language_info": {
   "codemirror_mode": {
    "name": "ipython",
    "version": 2
   },
   "file_extension": ".py",
   "mimetype": "text/x-python",
   "name": "python",
   "nbconvert_exporter": "python",
   "pygments_lexer": "ipython2",
   "version": "2.7.11"
  }
 },
 "nbformat": 4,
 "nbformat_minor": 0
}
