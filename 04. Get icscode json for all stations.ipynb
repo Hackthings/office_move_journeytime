{
 "cells": [
  {
   "cell_type": "markdown",
   "metadata": {},
   "source": [
    "To look up routes from outside London, we need to specify the icscode of the station.  This script gathers icscodes for all stations"
   ]
  },
  {
   "cell_type": "code",
   "execution_count": 1,
   "metadata": {
    "collapsed": false
   },
   "outputs": [
    {
     "name": "stderr",
     "output_type": "stream",
     "text": [
      "/Users/robinlinacre/anaconda/lib/python2.7/site-packages/sqlalchemy/dialects/postgresql/base.py:2505: SAWarning: Did not recognize type 'geometry' of column 'geom'\n",
      "  (attype, name))\n"
     ]
    }
   ],
   "source": [
    "from mylibrary.connections import Automapped_Base, session\n",
    "Stations = Automapped_Base.classes.all_stations"
   ]
  },
  {
   "cell_type": "code",
   "execution_count": 2,
   "metadata": {
    "collapsed": false
   },
   "outputs": [],
   "source": [
    "# ids = session.query(Stations.nlc).filter(Stations.london_or_gb == \"gb\").all()\n",
    "nlcs = session.query(Stations.nlc).all()"
   ]
  },
  {
   "cell_type": "code",
   "execution_count": 3,
   "metadata": {
    "collapsed": false
   },
   "outputs": [],
   "source": [
    "from mylibrary.secrets import app_id, app_key"
   ]
  },
  {
   "cell_type": "code",
   "execution_count": 4,
   "metadata": {
    "collapsed": false
   },
   "outputs": [
    {
     "name": "stderr",
     "output_type": "stream",
     "text": [
      "/Users/robinlinacre/anaconda/lib/python2.7/site-packages/sqlalchemy/sql/type_api.py:279: UnicodeWarning: Unicode equal comparison failed to convert both arguments to Unicode - interpreting them as being unequal\n",
      "  return x == y\n"
     ]
    }
   ],
   "source": [
    "# Dump all the json to the database first.  Then process it later\n",
    "# Iterate through adding icscode\n",
    "import requests\n",
    "\n",
    "from mylibrary.tfl_helpers import status_of_tfl_response_places\n",
    "\n",
    "def get_icsCode(lat,lng):\n",
    "    my_dict = {\"lat\": lat,\n",
    "        \"lng\": lng,\n",
    "        \"id\": app_id,\n",
    "        \"key\": app_key}\n",
    "    \n",
    "    full_str = \"\".join([r\"https://api.tfl.gov.uk/Place?\",\n",
    "    r\"lat={lat}\",\n",
    "    r\"&lon={lng}\",\n",
    "    r\"&radius=1000\",\n",
    "    r\"&includeChildren=False\",\n",
    "    r\"&app_id={id}\",\n",
    "    r\"&app_key={key}\"])\n",
    "    \n",
    "    url = full_str.format(**my_dict)\n",
    "    r = requests.get(url)\n",
    "    \n",
    "    message = status_of_tfl_response_places(r.content)\n",
    "    \n",
    "    return_object = {\"json\": r.content, \"request_url\": url, \"tfl_message\": message}\n",
    "    return return_object\n",
    "    \n",
    "\n",
    "for nlc in nlcs:\n",
    "    station = session.query(Stations).filter(Stations.nlc == nlc).one()\n",
    "    ics_object = get_icsCode(station.lat, station.lng)\n",
    "    station.tfl_request = ics_object[\"request_url\"]\n",
    "    station.tfl_response = ics_object[\"json\"]\n",
    "    station.tfl_message = ics_object[\"tfl_message\"]\n",
    "    session.add(station)\n",
    "    session.commit()"
   ]
  }
 ],
 "metadata": {
  "kernelspec": {
   "display_name": "Python 2",
   "language": "python",
   "name": "python2"
  },
  "language_info": {
   "codemirror_mode": {
    "name": "ipython",
    "version": 2
   },
   "file_extension": ".py",
   "mimetype": "text/x-python",
   "name": "python",
   "nbconvert_exporter": "python",
   "pygments_lexer": "ipython2",
   "version": "2.7.11"
  }
 },
 "nbformat": 4,
 "nbformat_minor": 0
}
