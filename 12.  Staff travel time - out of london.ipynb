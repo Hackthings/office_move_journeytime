{
 "cells": [
  {
   "cell_type": "code",
   "execution_count": null,
   "metadata": {
    "collapsed": true
   },
   "outputs": [],
   "source": [
    "import pandas as pd"
   ]
  },
  {
   "cell_type": "code",
   "execution_count": null,
   "metadata": {
    "collapsed": false
   },
   "outputs": [],
   "source": [
    "from mylibrary.connections import cursor, conn, engine, Automapped_Base, session"
   ]
  },
  {
   "cell_type": "code",
   "execution_count": null,
   "metadata": {
    "collapsed": false
   },
   "outputs": [],
   "source": [
    "sql = \"\"\"\n",
    "select row_number() over (), s.geom, st_astext(s.geom) as wkt from tt_gh.staff_locations as  s, tt_gh.gb_and_london as g\n",
    "where st_contains(g.geom,s.geom)  and g.name='london'\n",
    "\"\"\"\n",
    "london_staff = pd.read_sql(sql, conn)\n",
    "len(london_staff)"
   ]
  },
  {
   "cell_type": "code",
   "execution_count": null,
   "metadata": {
    "collapsed": false
   },
   "outputs": [],
   "source": [
    "sql = \"\"\"\n",
    "select s.postcode, ST_AsEWKT(s.geom) as wkt from tt_gh.staff_locations as  s, tt_gh.gb_and_london as g\n",
    "where st_contains(g.geom,s.geom)  and g.name='gb'\n",
    "\"\"\"\n",
    "non_london_staff = pd.read_sql(sql, conn)\n",
    "len(non_london_staff)"
   ]
  },
  {
   "cell_type": "code",
   "execution_count": null,
   "metadata": {
    "collapsed": true
   },
   "outputs": [],
   "source": [
    "# For the London staff we will simply look up their change in journeytime on the TFL API.\n",
    "# For the non London staff we: (1) look for stations within 10 miles\n",
    "# And pick the one with the lowest journeytime"
   ]
  },
  {
   "cell_type": "code",
   "execution_count": null,
   "metadata": {
    "collapsed": false
   },
   "outputs": [],
   "source": [
    "# for each member of staff, find the list of stations within 10 miles, lookup journeytime and distance and pick best route\n",
    "# sensible radis us 10000\n",
    "def choose_station(df):\n",
    "    \"\"\"\n",
    "    This function determines which station the member of staff uses to get to work\n",
    "    \"\"\"\n",
    "    \n",
    "    df = df.sort(\"st_distance\")\n",
    "    station = df.iloc[0][\"nlc\"]\n",
    "    return station\n",
    "\n",
    "out_table = []\n",
    "\n",
    "for r in non_london_staff.iterrows():\n",
    "    \n",
    "    row = r[1]\n",
    "    this_out_row = {}\n",
    "    this_out_row[\"postcode\"] = row[\"postcode\"]\n",
    "    \n",
    "    wkt = row[\"wkt\"]\n",
    "\n",
    "    sql = \"\"\"\n",
    "    select nlc, station_name,  st_distance(ST_GeomFromEWKT('{wkt}'), a.geom) from \n",
    "    tt_gh.all_stations as a where st_contains(\n",
    "    ST_Buffer(ST_GeomFromEWKT('{wkt}'),50000),a.geom)\n",
    "    and nlc in (select nlc from tt_gh.stations_journeytime_stpauls where tfl_message = 'ok')\n",
    "    \"\"\".format(wkt=wkt)\n",
    "    df = pd.read_sql(sql,conn)\n",
    "    \n",
    "    if len(df) ==0:\n",
    "        print \"error\"\n",
    "        continue\n",
    "    \n",
    "    station_nlc = choose_station(df)\n",
    "\n",
    "    sql = \"\"\"\n",
    "    select journey_time as journey_time_orig from tt_gh.stations_journeytime_stpauls where nlc = {}\n",
    "    \"\"\".format(station_nlc)\n",
    "\n",
    "    journey_time_orig = pd.read_sql(sql,conn).iloc[0,0]\n",
    "\n",
    "    sql = \"\"\"\n",
    "    select nlc, station_name,  st_distance(ST_GeomFromEWKT('{wkt}'), a.geom) from tt_gh.all_stations as a where st_contains(\n",
    "    ST_Buffer(ST_GeomFromEWKT('{wkt}'),50000),a.geom)\n",
    "    and nlc in (select nlc from tt_gh.stations_journeytime_camden where tfl_message = 'ok')\n",
    "    \"\"\".format(wkt=wkt)\n",
    "    df = pd.read_sql(sql,conn)\n",
    "    \n",
    "    if len(df) ==0:\n",
    "        print \"error\"\n",
    "        continue\n",
    "        \n",
    "    station_nlc = choose_station(df)\n",
    "\n",
    "    sql = \"\"\"\n",
    "    select journey_time as journey_time_orig from tt_gh.stations_journeytime_camden where nlc = {}\n",
    "    \"\"\".format(station_nlc)\n",
    "\n",
    "    journey_time_dest= pd.read_sql(sql,conn).iloc[0,0]\n",
    "\n",
    "    this_out_row[\"original_journey_time\"] = journey_time_orig\n",
    "    this_out_row[\"new_journey_time\"] = journey_time_dest\n",
    "    \n",
    "\n",
    "    out_table.append(this_out_row)\n",
    "    \n"
   ]
  },
  {
   "cell_type": "code",
   "execution_count": null,
   "metadata": {
    "collapsed": false
   },
   "outputs": [],
   "source": [
    "out = pd.DataFrame(out_table)\n",
    "print len(out)\n",
    "print len(out[~out.isnull().any(axis=1)])\n",
    "out.head(2)"
   ]
  },
  {
   "cell_type": "code",
   "execution_count": null,
   "metadata": {
    "collapsed": false
   },
   "outputs": [],
   "source": [
    "out[\"change_in_journey_time\"] = out[\"new_journey_time\"] - out[\"original_journey_time\"]"
   ]
  },
  {
   "cell_type": "code",
   "execution_count": null,
   "metadata": {
    "collapsed": false
   },
   "outputs": [],
   "source": [
    "# Now write out to postgresgh\n",
    "out.to_sql(\"change_in_journey_time_non_london\", engine, schema=\"tt_gh\", if_exists=\"replace\")"
   ]
  },
  {
   "cell_type": "code",
   "execution_count": null,
   "metadata": {
    "collapsed": false
   },
   "outputs": [],
   "source": [
    "sql = \"\"\"\n",
    "drop view if exists tt_gh.vw_change_in_journey_time_non_london;\n",
    "create view tt_gh.vw_change_in_journey_time_non_london as \n",
    "select p.postcode,original_journey_time,new_journey_time, change_in_journey_time, p.geom from tt_gh.change_in_journey_time_non_london as c\n",
    "left join tt_gh.all_postcodes as p\n",
    "on p.postcode = c.postcode \n",
    "\"\"\"\n",
    "conn.rollback()\n",
    "cur = conn.cursor()\n",
    "cur.execute(sql)\n",
    "conn.commit()"
   ]
  },
  {
   "cell_type": "code",
   "execution_count": null,
   "metadata": {
    "collapsed": false
   },
   "outputs": [],
   "source": [
    "pd.read_sql(\"select * from tt.vw_change_in_journey_time_non_london\", conn)"
   ]
  },
  {
   "cell_type": "code",
   "execution_count": null,
   "metadata": {
    "collapsed": true
   },
   "outputs": [],
   "source": []
  }
 ],
 "metadata": {
  "kernelspec": {
   "display_name": "Python 2",
   "language": "python",
   "name": "python2"
  },
  "language_info": {
   "codemirror_mode": {
    "name": "ipython",
    "version": 2
   },
   "file_extension": ".py",
   "mimetype": "text/x-python",
   "name": "python",
   "nbconvert_exporter": "python",
   "pygments_lexer": "ipython2",
   "version": "2.7.11"
  }
 },
 "nbformat": 4,
 "nbformat_minor": 0
}
