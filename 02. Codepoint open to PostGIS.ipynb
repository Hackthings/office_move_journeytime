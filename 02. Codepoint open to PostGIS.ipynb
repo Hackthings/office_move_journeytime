{
 "cells": [
  {
   "cell_type": "markdown",
   "metadata": {},
   "source": [
    "This code imports CodePoint Open into a PostGIS database, using the files provided by OS\n",
    "https://www.ordnancesurvey.co.uk/business-and-government/products/code-point-open.html"
   ]
  },
  {
   "cell_type": "code",
   "execution_count": 1,
   "metadata": {
    "collapsed": true
   },
   "outputs": [],
   "source": [
    "import pandas as pd"
   ]
  },
  {
   "cell_type": "code",
   "execution_count": 2,
   "metadata": {
    "collapsed": true
   },
   "outputs": [],
   "source": [
    "codepoint_dir = r\"/Users/robinlinacre/Downloads/codepo_gb\""
   ]
  },
  {
   "cell_type": "code",
   "execution_count": 3,
   "metadata": {
    "collapsed": false
   },
   "outputs": [
    {
     "data": {
      "text/plain": [
       "['postcode',\n",
       " 'positional_quality_indicator',\n",
       " 'eastings',\n",
       " 'northings',\n",
       " 'country_code',\n",
       " 'nhs_regional_ha_code',\n",
       " 'nhs_ha_code',\n",
       " 'admin_county_code',\n",
       " 'admin_district_code',\n",
       " 'admin_ward_code']"
      ]
     },
     "execution_count": 3,
     "metadata": {},
     "output_type": "execute_result"
    }
   ],
   "source": [
    "# Get column names\n",
    "column_headers_df = pd.read_csv(\"/Users/robinlinacre/Downloads/codepo_gb/Doc/Code-Point_Open_Column_Headers.csv\")\n",
    "headers = column_headers_df.loc[0]\n",
    "headers = [h.lower() for h in list(headers)]\n",
    "headers"
   ]
  },
  {
   "cell_type": "code",
   "execution_count": 4,
   "metadata": {
    "collapsed": false
   },
   "outputs": [],
   "source": [
    "# Iterate through the CSVs in codepoint open concatenating them together into one big table\n",
    "import os \n",
    "files = os.listdir(os.path.join(codepoint_dir,\"Data/CSV\"))\n",
    "\n",
    "dfs = []\n",
    "for f in files:\n",
    "    this_file = os.path.join(codepoint_dir,\"Data/CSV\", f)\n",
    "    if \".csv\" in this_file:\n",
    "        this_df = pd.read_csv(this_file, header=None)\n",
    "        dfs.append(this_df)"
   ]
  },
  {
   "cell_type": "code",
   "execution_count": 5,
   "metadata": {
    "collapsed": false
   },
   "outputs": [
    {
     "data": {
      "text/html": [
       "<div>\n",
       "<table border=\"1\" class=\"dataframe\">\n",
       "  <thead>\n",
       "    <tr style=\"text-align: right;\">\n",
       "      <th></th>\n",
       "      <th>postcode</th>\n",
       "      <th>positional_quality_indicator</th>\n",
       "      <th>eastings</th>\n",
       "      <th>northings</th>\n",
       "      <th>country_code</th>\n",
       "      <th>nhs_regional_ha_code</th>\n",
       "      <th>nhs_ha_code</th>\n",
       "      <th>admin_county_code</th>\n",
       "      <th>admin_district_code</th>\n",
       "      <th>admin_ward_code</th>\n",
       "    </tr>\n",
       "  </thead>\n",
       "  <tbody>\n",
       "    <tr>\n",
       "      <th>0</th>\n",
       "      <td>AB101AA</td>\n",
       "      <td>10</td>\n",
       "      <td>394251</td>\n",
       "      <td>806376</td>\n",
       "      <td>S92000003</td>\n",
       "      <td>NaN</td>\n",
       "      <td>S08000020</td>\n",
       "      <td>NaN</td>\n",
       "      <td>S12000033</td>\n",
       "      <td>S13002483</td>\n",
       "    </tr>\n",
       "    <tr>\n",
       "      <th>1</th>\n",
       "      <td>AB101AB</td>\n",
       "      <td>10</td>\n",
       "      <td>394235</td>\n",
       "      <td>806529</td>\n",
       "      <td>S92000003</td>\n",
       "      <td>NaN</td>\n",
       "      <td>S08000020</td>\n",
       "      <td>NaN</td>\n",
       "      <td>S12000033</td>\n",
       "      <td>S13002483</td>\n",
       "    </tr>\n",
       "    <tr>\n",
       "      <th>2</th>\n",
       "      <td>AB101AF</td>\n",
       "      <td>10</td>\n",
       "      <td>394181</td>\n",
       "      <td>806429</td>\n",
       "      <td>S92000003</td>\n",
       "      <td>NaN</td>\n",
       "      <td>S08000020</td>\n",
       "      <td>NaN</td>\n",
       "      <td>S12000033</td>\n",
       "      <td>S13002483</td>\n",
       "    </tr>\n",
       "    <tr>\n",
       "      <th>3</th>\n",
       "      <td>AB101AG</td>\n",
       "      <td>10</td>\n",
       "      <td>394251</td>\n",
       "      <td>806376</td>\n",
       "      <td>S92000003</td>\n",
       "      <td>NaN</td>\n",
       "      <td>S08000020</td>\n",
       "      <td>NaN</td>\n",
       "      <td>S12000033</td>\n",
       "      <td>S13002483</td>\n",
       "    </tr>\n",
       "    <tr>\n",
       "      <th>4</th>\n",
       "      <td>AB101AH</td>\n",
       "      <td>10</td>\n",
       "      <td>394371</td>\n",
       "      <td>806359</td>\n",
       "      <td>S92000003</td>\n",
       "      <td>NaN</td>\n",
       "      <td>S08000020</td>\n",
       "      <td>NaN</td>\n",
       "      <td>S12000033</td>\n",
       "      <td>S13002483</td>\n",
       "    </tr>\n",
       "  </tbody>\n",
       "</table>\n",
       "</div>"
      ],
      "text/plain": [
       "  postcode  positional_quality_indicator  eastings  northings country_code  \\\n",
       "0  AB101AA                            10    394251     806376    S92000003   \n",
       "1  AB101AB                            10    394235     806529    S92000003   \n",
       "2  AB101AF                            10    394181     806429    S92000003   \n",
       "3  AB101AG                            10    394251     806376    S92000003   \n",
       "4  AB101AH                            10    394371     806359    S92000003   \n",
       "\n",
       "  nhs_regional_ha_code nhs_ha_code admin_county_code admin_district_code  \\\n",
       "0                  NaN   S08000020               NaN           S12000033   \n",
       "1                  NaN   S08000020               NaN           S12000033   \n",
       "2                  NaN   S08000020               NaN           S12000033   \n",
       "3                  NaN   S08000020               NaN           S12000033   \n",
       "4                  NaN   S08000020               NaN           S12000033   \n",
       "\n",
       "  admin_ward_code  \n",
       "0       S13002483  \n",
       "1       S13002483  \n",
       "2       S13002483  \n",
       "3       S13002483  \n",
       "4       S13002483  "
      ]
     },
     "execution_count": 5,
     "metadata": {},
     "output_type": "execute_result"
    }
   ],
   "source": [
    "final_df = pd.concat(dfs)\n",
    "final_df.columns = headers\n",
    "final_df.head()"
   ]
  },
  {
   "cell_type": "code",
   "execution_count": null,
   "metadata": {
    "collapsed": false
   },
   "outputs": [
    {
     "name": "stderr",
     "output_type": "stream",
     "text": [
      "/Users/robinlinacre/anaconda/lib/python2.7/site-packages/sqlalchemy/dialects/postgresql/base.py:2505: SAWarning: Did not recognize type 'geometry' of column 'geom'\n",
      "  (attype, name))\n"
     ]
    }
   ],
   "source": [
    "from mylibrary.connections import engine, cursor, conn\n",
    "final_df.to_sql(\"all_postcodes\", engine, schema=\"tt_gh\", if_exists=\"replace\")"
   ]
  },
  {
   "cell_type": "code",
   "execution_count": null,
   "metadata": {
    "collapsed": false
   },
   "outputs": [],
   "source": [
    "# Create geometry column for the points including a spatial index for efficient querying\n",
    "\n",
    "sql = \"\"\"\n",
    "SELECT AddGeometryColumn ('tt_gh', 'all_postcodes', 'geom', 27700, 'POINT', 2);\n",
    "UPDATE tt_gh.all_postcodes SET geom = ST_GeomFromText('POINT(' || eastings || ' ' || northings || ')', 27700 );\n",
    "CREATE INDEX idx_geom_all_postcodes_tt_gh ON tt.all_postcodes USING gist(geom);\n",
    "\"\"\"\n",
    "\n",
    "cursor.execute(sql)\n",
    "conn.commit()"
   ]
  }
 ],
 "metadata": {
  "kernelspec": {
   "display_name": "Python 2",
   "language": "python",
   "name": "python2"
  },
  "language_info": {
   "codemirror_mode": {
    "name": "ipython",
    "version": 2
   },
   "file_extension": ".py",
   "mimetype": "text/x-python",
   "name": "python",
   "nbconvert_exporter": "python",
   "pygments_lexer": "ipython2",
   "version": "2.7.11"
  }
 },
 "nbformat": 4,
 "nbformat_minor": 0
}
