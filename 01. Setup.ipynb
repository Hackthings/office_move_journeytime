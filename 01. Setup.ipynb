{
 "cells": [
  {
   "cell_type": "markdown",
   "metadata": {},
   "source": [
    "## Objectives\n",
    "\n",
    "To understand how travel time changes for an office move to one or more new London locations.  \n",
    "To visualise the output\n",
    "\n",
    "Note: This code will only work for a move within London because TFL Journey Planner only works for journeys to London postcodes.  However, the code allows for staff locations to be outside London"
   ]
  },
  {
   "cell_type": "markdown",
   "metadata": {},
   "source": [
    "## Getting started - data sources\n",
    "\n",
    "\n",
    "OS boundaryline from:\n",
    "https://www.ordnancesurvey.co.uk/business-and-government/products/boundary-line.html\n",
    "\n",
    "'Dissolve' district_borough_unitary_region.shp to get outline of GB\n",
    "'Dissolve' greater_london_const_region.shp to get outline of London\n",
    "\n",
    "I have included the resultant shapefile in this repo `gb_london_simplified_final.shp`\n",
    "\n",
    "Download os codepoint open from:  (This is a mapping between postcodes and geolocations)\n",
    "https://www.ordnancesurvey.co.uk/business-and-government/products/code-point-open.html\n",
    "\n",
    "We will be using the list of stations provided by ORR, which will be read in directly.  The source is here\n",
    "http://orr.gov.uk/statistics/published-stats/station-usage-estimates"
   ]
  },
  {
   "cell_type": "markdown",
   "metadata": {},
   "source": [
    "## Things not included\n",
    "\n",
    "I have not included my tfl API key.  You need to obtain one from https://api.tfl.gov.uk/\n",
    "You need a file called .env that looks like this but contains your details\n",
    "    \n",
    "    {\"app_id\": \"abc123\", \"app_key\": \"abc123\", \"orig_pc\":\"EC4M 8AD\", \"dest_pc\":\"NW1 0NS\", \"orig_name\":\"stpauls\", \"dest_name\":\"camden\"}\n",
    "    \n",
    "    "
   ]
  }
 ],
 "metadata": {
  "kernelspec": {
   "display_name": "Python 2",
   "language": "python",
   "name": "python2"
  },
  "language_info": {
   "codemirror_mode": {
    "name": "ipython",
    "version": 2
   },
   "file_extension": ".py",
   "mimetype": "text/x-python",
   "name": "python",
   "nbconvert_exporter": "python",
   "pygments_lexer": "ipython2",
   "version": "2.7.11"
  }
 },
 "nbformat": 4,
 "nbformat_minor": 0
}
